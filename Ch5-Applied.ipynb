{
 "cells": [
  {
   "cell_type": "markdown",
   "id": "92405cfd",
   "metadata": {},
   "source": [
    "# Ch 5 Applied Problems"
   ]
  },
  {
   "cell_type": "markdown",
   "id": "2929adbc",
   "metadata": {},
   "source": [
    "## Problem 5\n",
    "5. In Chapter 4, we used logistic regression to predict the probability of default using income and balance on the Default data set. We will now estimate the test error of this logistic regression model using the validation set approach. Do not forget to set a random seed before beginning your analysis."
   ]
  },
  {
   "cell_type": "code",
   "execution_count": 1,
   "id": "62242e34",
   "metadata": {},
   "outputs": [],
   "source": [
    "import pandas as pd\n",
    "import numpy as np\n",
    "import patsy\n",
    "import seaborn as sns\n",
    "import matplotlib.pyplot as plt\n",
    "\n",
    "import statsmodels.formula.api as smf\n",
    "from sklearn.model_selection import train_test_split\n",
    "from sklearn.linear_model import LogisticRegression\n",
    "from sklearn.metrics import confusion_matrix, accuracy_score\n",
    "\n",
    "# statsmodels issue: https://github.com/statsmodels/statsmodels/issues/3931\n",
    "from scipy import stats\n",
    "stats.chisqprob = lambda chisq, df: stats.chi2.sf(chisq, df)\n",
    "\n",
    "sns.set(style=\"white\")\n",
    "%matplotlib inline\n",
    "\n",
    "np.random.seed(1)"
   ]
  },
  {
   "cell_type": "code",
   "execution_count": 71,
   "id": "7d7ae1ca",
   "metadata": {},
   "outputs": [
    {
     "data": {
      "text/html": [
       "<div>\n",
       "<style scoped>\n",
       "    .dataframe tbody tr th:only-of-type {\n",
       "        vertical-align: middle;\n",
       "    }\n",
       "\n",
       "    .dataframe tbody tr th {\n",
       "        vertical-align: top;\n",
       "    }\n",
       "\n",
       "    .dataframe thead th {\n",
       "        text-align: right;\n",
       "    }\n",
       "</style>\n",
       "<table border=\"1\" class=\"dataframe\">\n",
       "  <thead>\n",
       "    <tr style=\"text-align: right;\">\n",
       "      <th></th>\n",
       "      <th>default</th>\n",
       "      <th>student</th>\n",
       "      <th>balance</th>\n",
       "      <th>income</th>\n",
       "      <th>default_yes</th>\n",
       "    </tr>\n",
       "  </thead>\n",
       "  <tbody>\n",
       "    <tr>\n",
       "      <th>0</th>\n",
       "      <td>No</td>\n",
       "      <td>No</td>\n",
       "      <td>729.526495</td>\n",
       "      <td>44361.625074</td>\n",
       "      <td>0</td>\n",
       "    </tr>\n",
       "    <tr>\n",
       "      <th>1</th>\n",
       "      <td>No</td>\n",
       "      <td>Yes</td>\n",
       "      <td>817.180407</td>\n",
       "      <td>12106.134700</td>\n",
       "      <td>0</td>\n",
       "    </tr>\n",
       "    <tr>\n",
       "      <th>2</th>\n",
       "      <td>No</td>\n",
       "      <td>No</td>\n",
       "      <td>1073.549164</td>\n",
       "      <td>31767.138947</td>\n",
       "      <td>0</td>\n",
       "    </tr>\n",
       "    <tr>\n",
       "      <th>3</th>\n",
       "      <td>No</td>\n",
       "      <td>No</td>\n",
       "      <td>529.250605</td>\n",
       "      <td>35704.493935</td>\n",
       "      <td>0</td>\n",
       "    </tr>\n",
       "    <tr>\n",
       "      <th>4</th>\n",
       "      <td>No</td>\n",
       "      <td>No</td>\n",
       "      <td>785.655883</td>\n",
       "      <td>38463.495879</td>\n",
       "      <td>0</td>\n",
       "    </tr>\n",
       "  </tbody>\n",
       "</table>\n",
       "</div>"
      ],
      "text/plain": [
       "  default student      balance        income  default_yes\n",
       "0      No      No   729.526495  44361.625074            0\n",
       "1      No     Yes   817.180407  12106.134700            0\n",
       "2      No      No  1073.549164  31767.138947            0\n",
       "3      No      No   529.250605  35704.493935            0\n",
       "4      No      No   785.655883  38463.495879            0"
      ]
     },
     "execution_count": 71,
     "metadata": {},
     "output_type": "execute_result"
    }
   ],
   "source": [
    "default = pd.read_csv(\"./data/Default.csv\")\n",
    "default['default_yes'] = (default['default'] == 'Yes').astype('int')\n",
    "default.head()"
   ]
  },
  {
   "cell_type": "markdown",
   "id": "edfd3ab1",
   "metadata": {},
   "source": [
    "(a) Fit a logistic regression model that uses income and balance to predict default."
   ]
  },
  {
   "cell_type": "code",
   "execution_count": 55,
   "id": "ba697b0c",
   "metadata": {},
   "outputs": [
    {
     "name": "stdout",
     "output_type": "stream",
     "text": [
      "SkLearn Coefs = [[2.08089741e-05 5.64710265e-03]]\n",
      "Optimization terminated successfully.\n",
      "         Current function value: 0.078948\n",
      "         Iterations 10\n",
      "                           Logit Regression Results                           \n",
      "==============================================================================\n",
      "Dep. Variable:            default_yes   No. Observations:                10000\n",
      "Model:                          Logit   Df Residuals:                     9997\n",
      "Method:                           MLE   Df Model:                            2\n",
      "Date:                Sat, 21 Jun 2025   Pseudo R-squ.:                  0.4594\n",
      "Time:                        14:05:25   Log-Likelihood:                -789.48\n",
      "converged:                       True   LL-Null:                       -1460.3\n",
      "Covariance Type:            nonrobust   LLR p-value:                4.541e-292\n",
      "==============================================================================\n",
      "                 coef    std err          z      P>|z|      [0.025      0.975]\n",
      "------------------------------------------------------------------------------\n",
      "Intercept    -11.5405      0.435    -26.544      0.000     -12.393     -10.688\n",
      "income      2.081e-05   4.99e-06      4.174      0.000     1.1e-05    3.06e-05\n",
      "balance        0.0056      0.000     24.835      0.000       0.005       0.006\n",
      "==============================================================================\n",
      "\n",
      "Possibly complete quasi-separation: A fraction 0.14 of observations can be\n",
      "perfectly predicted. This might indicate that there is complete\n",
      "quasi-separation. In this case some parameters will not be identified.\n"
     ]
    }
   ],
   "source": [
    "# (a) LR\n",
    "X = default[['income', 'balance']].copy()\n",
    "y = default['default_yes'].copy()\n",
    "\n",
    "model = LogisticRegression()\n",
    "model.fit(X,y)\n",
    "print(f\"SkLearn Coefs = {model.coef_}\")\n",
    "\n",
    "model_string = 'default_yes ~ income + balance'\n",
    "result = smf.logit(formula=model_string, data=default).fit()\n",
    "print(result.summary())"
   ]
  },
  {
   "cell_type": "markdown",
   "id": "658331b2",
   "metadata": {},
   "source": [
    "(b) Using the validation set approach, estimate the test error of this model. In order to do this, you must perform the following steps:\n",
    "\n",
    "- i. Split the sample set into a training set and a validation set.\n",
    "- ii. Fit a multiple logistic regression model using only the training observations.\n",
    "- iii. Obtain a prediction of default status for each individual in the validation set by computing the posterior probability of default for that individual, and classifying the individual to the default category if the posterior probability is greater than 0.5.\n",
    "- iv. Compute the validation set error, which is the fraction of the observations in the validation set that are misclassified.\n",
    "\n",
    "(c) Repeat the process in (b) three times, using three different splits of the observations into a training set and a validation set. Com- ment on the results obtained."
   ]
  },
  {
   "cell_type": "code",
   "execution_count": 56,
   "id": "a931cde1",
   "metadata": {},
   "outputs": [
    {
     "name": "stdout",
     "output_type": "stream",
     "text": [
      "State 1 -> Validation Error = 2.5%\n",
      "State 2 -> Validation Error = 2.6%\n",
      "State 3 -> Validation Error = 2.1%\n"
     ]
    }
   ],
   "source": [
    "states = [1, 2, 3]\n",
    "for state in states:\n",
    "    X_train, X_test, y_train, y_test = train_test_split(X, y, random_state=state)\n",
    "    model = LogisticRegression()\n",
    "    model.fit(X_train, y_train)\n",
    "    y_preds = model.predict(X_test)\n",
    "    y_preds_probs = model.predict_proba(X_test)[:,1]\n",
    "    print(f\"State {state} -> Validation Error = {1- accuracy_score(y_test, y_preds):.1%}\")"
   ]
  },
  {
   "cell_type": "markdown",
   "id": "41e3e774",
   "metadata": {},
   "source": [
    "\n",
    "\n",
    "(d) Now consider a logistic regression model that predicts the prob- ability of default using income, balance, and a dummy variable for student. Estimate the test error for this model using the val- idation set approach. Comment on whether or not including a dummy variable for student leads to a reduction in the test error rate."
   ]
  },
  {
   "cell_type": "code",
   "execution_count": 57,
   "id": "be3a9841",
   "metadata": {},
   "outputs": [],
   "source": [
    "default['student_binary'] = 1.0*(default['student'] == \"Yes\")\n",
    "X['student'] = default['student_binary'].copy()"
   ]
  },
  {
   "cell_type": "code",
   "execution_count": 58,
   "id": "5e36bcb9",
   "metadata": {},
   "outputs": [
    {
     "name": "stdout",
     "output_type": "stream",
     "text": [
      "Validation Error with Student= 2.6%\n",
      "Validation Error without Student = 2.5%\n"
     ]
    }
   ],
   "source": [
    "X_train, X_test, y_train, y_test = train_test_split(X, y, random_state=1)\n",
    "model = LogisticRegression()\n",
    "model.fit(X_train, y_train)\n",
    "y_preds = model.predict(X_test)\n",
    "y_preds_probs = model.predict_proba(X_test)[:,1]\n",
    "print(f\"Validation Error with Student= {1- accuracy_score(y_test, y_preds):.1%}\")\n",
    "\n",
    "X_train, X_test, y_train, y_test = train_test_split(X.drop(columns=['student']), y, random_state=1)\n",
    "model = LogisticRegression()\n",
    "model.fit(X_train, y_train)\n",
    "y_preds = model.predict(X_test)\n",
    "y_preds_probs = model.predict_proba(X_test)[:,1]\n",
    "print(f\"Validation Error without Student = {1- accuracy_score(y_test, y_preds):.1%}\")\n"
   ]
  },
  {
   "cell_type": "markdown",
   "id": "25d80521",
   "metadata": {},
   "source": [
    "## Problem 6\n",
    "We continue to consider the use of a logistic regression model to predict the probability of default using income and balance on the Default data set. In particular, we will now compute estimates for the standard errors of the income and balance logistic regression coeffi- cients in two different ways: (1) using the bootstrap, and (2) using the standard formula for computing the standard errors in the sm.GLM() function. Do not forget to set a random seed before beginning your analysis."
   ]
  },
  {
   "cell_type": "markdown",
   "id": "ca865b35",
   "metadata": {},
   "source": [
    "(a) Using the summarize() and sm.GLM() functions, determine the estimated standard errors for the coefficients associated with income and balance in a multiple logistic regression model that uses both predictors."
   ]
  },
  {
   "cell_type": "code",
   "execution_count": 72,
   "id": "ebf12c82",
   "metadata": {},
   "outputs": [
    {
     "name": "stdout",
     "output_type": "stream",
     "text": [
      "Optimization terminated successfully.\n",
      "         Current function value: 0.078948\n",
      "         Iterations 10\n",
      "                           Logit Regression Results                           \n",
      "==============================================================================\n",
      "Dep. Variable:            default_yes   No. Observations:                10000\n",
      "Model:                          Logit   Df Residuals:                     9997\n",
      "Method:                           MLE   Df Model:                            2\n",
      "Date:                Sat, 21 Jun 2025   Pseudo R-squ.:                  0.4594\n",
      "Time:                        14:51:24   Log-Likelihood:                -789.48\n",
      "converged:                       True   LL-Null:                       -1460.3\n",
      "Covariance Type:            nonrobust   LLR p-value:                4.541e-292\n",
      "==============================================================================\n",
      "                 coef    std err          z      P>|z|      [0.025      0.975]\n",
      "------------------------------------------------------------------------------\n",
      "Intercept    -11.5405      0.435    -26.544      0.000     -12.393     -10.688\n",
      "income      2.081e-05   4.99e-06      4.174      0.000     1.1e-05    3.06e-05\n",
      "balance        0.0056      0.000     24.835      0.000       0.005       0.006\n",
      "==============================================================================\n",
      "\n",
      "Possibly complete quasi-separation: A fraction 0.14 of observations can be\n",
      "perfectly predicted. This might indicate that there is complete\n",
      "quasi-separation. In this case some parameters will not be identified.\n"
     ]
    }
   ],
   "source": [
    "df = default[['income', 'balance', 'default_yes']]\n",
    "\n",
    "model_string = 'default_yes ~ income + balance'\n",
    "result = smf.logit(formula=model_string, data=df).fit()\n",
    "print(result.summary())"
   ]
  },
  {
   "cell_type": "markdown",
   "id": "47854ca4",
   "metadata": {},
   "source": [
    "- Std Errors are very small < 10^-4"
   ]
  },
  {
   "cell_type": "markdown",
   "id": "b775e6a2",
   "metadata": {},
   "source": [
    "(b) Write a function, boot_fn(), that takes as input the Default data set as well as an index of the observations, and that outputs the coefficient estimates for income and balance in the multiple logistic regression model."
   ]
  },
  {
   "cell_type": "code",
   "execution_count": 64,
   "id": "deb735a0",
   "metadata": {},
   "outputs": [
    {
     "data": {
      "text/plain": [
       "Intercept   -11.540468\n",
       "income        0.000021\n",
       "balance       0.005647\n",
       "dtype: float64"
      ]
     },
     "execution_count": 64,
     "metadata": {},
     "output_type": "execute_result"
    }
   ],
   "source": [
    "result.params"
   ]
  },
  {
   "cell_type": "code",
   "execution_count": 75,
   "id": "2e02af0b",
   "metadata": {},
   "outputs": [
    {
     "data": {
      "text/plain": [
       "(0.005799490373833458, 2.1728365149007252e-05)"
      ]
     },
     "execution_count": 75,
     "metadata": {},
     "output_type": "execute_result"
    }
   ],
   "source": [
    "def boot_fn(df, index_range):\n",
    "    subset = df.iloc[index_range].copy()\n",
    "\n",
    "    model_string = 'default_yes ~ income + balance'\n",
    "    result = smf.logit(formula=model_string, data=subset).fit(disp=False)\n",
    "    return result.params.balance, result.params.income\n",
    "\n",
    "np.random.seed(0)\n",
    "indices = np.random.choice(default.index, size=len(default), replace=True)\n",
    "boot_fn(default, indices)"
   ]
  },
  {
   "cell_type": "markdown",
   "id": "2877bca1",
   "metadata": {},
   "source": [
    "(c) Following the bootstrap example in the lab, use your boot_fn() function to estimate the standard errors of the logistic regression coefficients for income and balance.\n"
   ]
  },
  {
   "cell_type": "code",
   "execution_count": 76,
   "id": "2fce019c",
   "metadata": {},
   "outputs": [
    {
     "name": "stdout",
     "output_type": "stream",
     "text": [
      "Std Dev of Balance Coef = 4.713662380454344e-06\n",
      "Std Dev of Income Coef = 0.0002362211215675502\n"
     ]
    }
   ],
   "source": [
    "balances, incomes = [], []\n",
    "samples = 1000\n",
    "\n",
    "for i in range(samples):\n",
    "    indices = np.random.choice(default.index, size=len(default), replace=True) # resample with replacement from entire dataset\n",
    "    bootstrap_coefs = boot_fn(default, indices)\n",
    "    balances.append(bootstrap_coefs[0])\n",
    "    incomes.append(bootstrap_coefs[1])\n",
    "\n",
    "print(f\"Std Dev of Balance Coef = {np.std(np.array(incomes))}\")\n",
    "print(f\"Std Dev of Income Coef = {np.std(np.array(balances))}\")"
   ]
  },
  {
   "cell_type": "markdown",
   "id": "44428a14",
   "metadata": {},
   "source": [
    "(d) Comment on the estimated standard errors obtained using the sm.GLM() function and using the bootstrap.\n",
    "\n",
    "- The results are not THAT different from the single sample ones above."
   ]
  },
  {
   "cell_type": "markdown",
   "id": "944fa0ec",
   "metadata": {},
   "source": [
    "# Problem 8\n",
    "We will now perform cross-validation on a simulated data set.\n",
    "(a) Generate a simulated data set as follows: \n",
    "```\n",
    "rng = np.random.default_rng(1)\n",
    "x = rng.normal(size=100)\n",
    "y = x - 2 * x**2 + rng.normal(size=100)\n",
    "```\n",
    "In this data set, what is n and what is p? Write out the model used to generate the data in equation form."
   ]
  },
  {
   "cell_type": "code",
   "execution_count": 2,
   "id": "c685c19e",
   "metadata": {},
   "outputs": [],
   "source": [
    "rng = np.random.default_rng(1)\n",
    "x = rng.normal(size=100)\n",
    "y = x - 2 * x**2 + rng.normal(size=100)"
   ]
  },
  {
   "cell_type": "markdown",
   "id": "4ae31cee",
   "metadata": {},
   "source": [
    "In this model n = 100, p is 2"
   ]
  },
  {
   "cell_type": "code",
   "execution_count": 3,
   "id": "2d799239",
   "metadata": {},
   "outputs": [
    {
     "data": {
      "text/plain": [
       "<matplotlib.collections.PathCollection at 0x11f0e6450>"
      ]
     },
     "execution_count": 3,
     "metadata": {},
     "output_type": "execute_result"
    },
    {
     "data": {
      "image/png": "[encoded data removed]",
      "text/plain": [
       "<Figure size 640x480 with 1 Axes>"
      ]
     },
     "metadata": {},
     "output_type": "display_data"
    }
   ],
   "source": [
    "# (b) Create a scatterplot of X against Y . Comment on what you find.\n",
    "plt.scatter(x,y)"
   ]
  },
  {
   "cell_type": "markdown",
   "id": "06a274c5",
   "metadata": {},
   "source": [
    "(c) Set a random seed, and then compute the LOOCV errors that result from fitting the following four models using least squares:\n",
    "\n",
    "i. $Y = \\beta_0 + \\beta_1X + ε$\n",
    "\n",
    "ii.  $Y =β_0 +β_1X+β_2X^2 +ε$\n",
    "\n",
    "iii. $Y =β_0 +β_1X+β_2X^2 +β_3X^3 +ε$\n",
    "\n",
    "iv. $Y =β_0 +β_1X+β_2X^2 +β_3X^3 +β_4X^4 +ε$\n",
    "\n",
    "Note you may find it helpful to use the data.frame() function to create a single data set containing both X and Y ."
   ]
  },
  {
   "cell_type": "code",
   "execution_count": 21,
   "id": "db8bb2de",
   "metadata": {},
   "outputs": [],
   "source": [
    "degree = 2\n",
    "poly_features = PolynomialFeatures(degree=degree)\n",
    "model = LinearRegression()\n",
    "features = poly_features.fit_transform(df['x'].values.reshape(-1,1))\n",
    "cv = cross_val_score(model, features, df['y'], scoring='neg_mean_squared_error', cv=len(df['x']))"
   ]
  },
  {
   "cell_type": "code",
   "execution_count": 23,
   "id": "12cb042b",
   "metadata": {},
   "outputs": [
    {
     "data": {
      "text/plain": [
       "array([-3.29716907e-01, -9.76288703e-01, -1.74308245e-03, -5.31788317e-01,\n",
       "       -1.85282082e+00, -2.29005536e-01, -6.94824456e-01, -2.08340590e+00,\n",
       "       -3.47774395e+00, -8.17879175e-04, -3.88772098e-01, -5.78754402e-02,\n",
       "       -2.06076393e-02, -8.70879216e-01, -8.65479670e-03, -1.21399707e-02,\n",
       "       -4.21829002e-01, -2.92814370e-01, -1.00672339e+00, -5.49785432e-01,\n",
       "       -2.62308624e+00, -2.20045403e+00, -6.16792091e+00, -5.65543676e-01,\n",
       "       -1.49435917e+01, -1.13888600e+00, -1.44328384e+00, -4.34044542e-01,\n",
       "       -5.94425363e-01, -1.86247469e-01, -6.20314334e-02, -3.45380713e-01,\n",
       "       -1.22574209e-01, -3.29665439e-01, -6.62506047e-03, -5.78839145e-01,\n",
       "       -7.15925089e-02, -9.51041207e-01, -7.43411132e-03, -1.12764334e+00,\n",
       "       -1.17855887e+00, -2.35948747e+00, -3.03254947e-04, -8.09426266e-05,\n",
       "       -3.47510132e-01, -1.22242867e-01, -2.45704255e-02, -2.40178562e-01,\n",
       "       -1.46725631e-01, -1.16626575e+00, -8.65137692e-01, -3.05470057e-01,\n",
       "       -9.50448433e-01, -7.35304308e-01, -8.50791193e-02, -2.92403934e+00,\n",
       "       -1.20306917e+00, -5.54459852e-02, -4.68207566e+00, -3.84632008e-03,\n",
       "       -9.75778555e-01, -2.44866004e-02, -3.57834529e-01, -7.81813531e-02,\n",
       "       -6.24951934e-01, -5.38119980e-01, -4.33320281e+00, -1.00248198e-01,\n",
       "       -3.55190321e-01, -2.02039474e-03, -2.61589771e-03, -3.04655020e-02,\n",
       "       -3.54765161e-04, -7.85841547e-02, -2.59560208e+00, -9.23105536e-01,\n",
       "       -2.71606360e-01, -1.41683043e+00, -5.14378759e-01, -1.95564346e+00,\n",
       "       -3.68787271e-01, -5.95010190e-02, -9.09976430e-01, -8.95878628e+00,\n",
       "       -1.02339402e+00, -1.12450989e+00, -5.46665745e-01, -2.62333521e-02,\n",
       "       -2.21220010e+00, -6.86581682e-02, -1.31056432e-01, -1.75818854e+00,\n",
       "       -1.09577342e+00, -7.22285648e+00, -2.58902577e-02, -3.63311699e+00,\n",
       "       -1.42850587e+00, -6.02149117e-02, -3.67226389e-01, -9.88554582e-01])"
      ]
     },
     "execution_count": 23,
     "metadata": {},
     "output_type": "execute_result"
    }
   ],
   "source": [
    "cv"
   ]
  },
  {
   "cell_type": "code",
   "execution_count": 18,
   "id": "9b9a8585",
   "metadata": {},
   "outputs": [
    {
     "name": "stdout",
     "output_type": "stream",
     "text": [
      "[6.633029839181984, 1.1229368563419693, 1.3017965489358856, 1.3323942694179336]\n"
     ]
    }
   ],
   "source": [
    "from sklearn.model_selection import cross_val_score\n",
    "from sklearn.preprocessing import PolynomialFeatures\n",
    "from sklearn.linear_model import LinearRegression\n",
    "\n",
    "def loo_cv(data, degree):\n",
    "    poly_features = PolynomialFeatures(degree=degree)\n",
    "    model = LinearRegression()\n",
    "    features = poly_features.fit_transform(data['x'].values.reshape(-1,1))\n",
    "    cv = cross_val_score(model, features, data['y'], scoring='neg_mean_squared_error', cv=len(data['x']))\n",
    "\n",
    "    return -np.mean(cv)\n",
    "\n",
    "# Set up data\n",
    "df = pd.DataFrame({'x': x, 'y': y})\n",
    "np.random.seed(10)  \n",
    "cv_results = [loo_cv(df, deg) for deg in range(1, 5)]  \n",
    "print(cv_results)"
   ]
  },
  {
   "cell_type": "markdown",
   "id": "95796d6e",
   "metadata": {},
   "source": [
    "(d) Repeat (c) using another random seed, and report your results. Are your results the same as what you got in (c)? Why?"
   ]
  },
  {
   "cell_type": "code",
   "execution_count": 24,
   "id": "97e5c5b5",
   "metadata": {},
   "outputs": [
    {
     "name": "stdout",
     "output_type": "stream",
     "text": [
      "[6.633029839181984, 1.1229368563419693, 1.3017965489358856, 1.3323942694179336]\n"
     ]
    }
   ],
   "source": [
    "df = pd.DataFrame({'x': x, 'y': y})\n",
    "np.random.seed(405)  \n",
    "cv_results = [loo_cv(df, deg) for deg in range(1, 5)]  \n",
    "print(cv_results)"
   ]
  },
  {
   "cell_type": "markdown",
   "id": "bb0d5f09",
   "metadata": {},
   "source": [
    "- We **do not** get different results with a different seed. This is because there's no randomness. Every time you're looking at every fold of n-1 data points.  5-fold would take 5 random selections, but n-1 doesn't."
   ]
  },
  {
   "cell_type": "markdown",
   "id": "3de68bc8",
   "metadata": {},
   "source": [
    "(e) Which of the models in (c) had the smallest LOOCV error? Is this what you expected? Explain your answer."
   ]
  },
  {
   "cell_type": "markdown",
   "id": "2ee472e7",
   "metadata": {},
   "source": [
    "- The lowest LOOCV error came from n=2, which includes a quadratic term. This makes sense, as we see an obvious quadratic relationship in our original scatter plot."
   ]
  },
  {
   "cell_type": "markdown",
   "id": "dab1abd1",
   "metadata": {},
   "source": [
    "(f) Comment on the statistical significance of the coefficient esti- mates that results from fitting each of the models in (c) using least squares. Do these results agree with the conclusions drawn based on the cross-validation results?"
   ]
  },
  {
   "cell_type": "code",
   "execution_count": 40,
   "id": "d6473f7a",
   "metadata": {},
   "outputs": [
    {
     "name": "stdout",
     "output_type": "stream",
     "text": [
      "Intercept    4.596053e-01\n",
      "x            2.591296e-05\n",
      "x_2          2.396026e-19\n",
      "x_3          6.424910e-01\n",
      "x_4          2.310661e-02\n",
      "dtype: float64\n"
     ]
    }
   ],
   "source": [
    "# Redo this with stats models. First engineer the features\n",
    "df['x_2'] = df['x']**2\n",
    "df['x_3'] = df['x']**3\n",
    "df['x_4'] = df['x']**4\n",
    "df['x_4'] = df['x']**4\n",
    "model_strings = ['y~x','y~x+x_2','y~x+x_2+x_3','y~x+x_2+x_3+x_4']\n",
    "results = []\n",
    "for model in model_strings:\n",
    "    results.append(smf.ols(formula=model, data=df).fit())\n",
    "\n",
    "# Print out p values\n",
    "print(results[-1].pvalues)"
   ]
  },
  {
   "cell_type": "markdown",
   "id": "0f133994",
   "metadata": {},
   "source": [
    "- As suspected, the p-values are significant for linear and quadratic terms and not significant for others except maybe x^4."
   ]
  }
 ],
 "metadata": {
  "kernelspec": {
   "display_name": "erdos_summer_2025",
   "language": "python",
   "name": "python3"
  },
  "language_info": {
   "codemirror_mode": {
    "name": "ipython",
    "version": 3
   },
   "file_extension": ".py",
   "mimetype": "text/x-python",
   "name": "python",
   "nbconvert_exporter": "python",
   "pygments_lexer": "ipython3",
   "version": "3.12.10"
  }
 },
 "nbformat": 4,
 "nbformat_minor": 5
}
